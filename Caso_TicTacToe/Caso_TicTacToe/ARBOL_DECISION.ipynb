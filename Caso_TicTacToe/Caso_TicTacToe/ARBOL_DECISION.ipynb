{
  "nbformat": 4,
  "nbformat_minor": 0,
  "metadata": {
    "colab": {
      "name": "AD1",
      "provenance": []
    },
    "kernelspec": {
      "name": "python3",
      "display_name": "Python 3"
    },
    "language_info": {
      "name": "python"
    }
  },
  "cells": [
    {
      "cell_type": "code",
      "execution_count": null,
      "metadata": {
        "id": "SxKrWZn56EwS"
      },
      "outputs": [],
      "source": [
        "#Leer datos csv\n",
        "import pandas as pd\n",
        "training = pd.read_csv(\"tic_tac_toe.csv\")\n",
        "training.info()\n",
        "training.head(5)"
      ]
    },
    {
      "cell_type": "code",
      "source": [
        "#Cambiar datos a numericos\n",
        "training[\"top-left-square\"] = training[\"top-left-square\"].apply(lambda toLabel: 0 if toLabel == 'x'  else 1 if toLabel == 'o'  else 2)\n",
        "training[\"top-middle-square\"] = training[\"top-middle-square\"].apply(lambda toLabel: 0 if toLabel == 'x'  else 1 if toLabel == 'o'  else 2)\n",
        "training[\"top-right-square\"] = training[\"top-right-square\"].apply(lambda toLabel: 0 if toLabel == 'x'  else 1 if toLabel == 'o'  else 2)\n",
        "training[\"middle-left-square\"] = training[\"middle-left-square\"].apply(lambda toLabel: 0 if toLabel == 'x'  else 1 if toLabel == 'o'  else 2)\n",
        "training[\"middle-middle-square\"] = training[\"middle-middle-square\"].apply(lambda toLabel: 0 if toLabel == 'x'  else 1 if toLabel == 'o'  else 2)\n",
        "training[\"middle-right-square\"] = training[\"middle-right-square\"].apply(lambda toLabel: 0 if toLabel == 'x'  else 1 if toLabel == 'o'  else 2)\n",
        "training[\"bottom-left-square\"] = training[\"bottom-left-square\"].apply(lambda toLabel: 0 if toLabel == 'x'  else 1 if toLabel == 'o'  else 2)\n",
        "training[\"bottom-middle-square\"] = training[\"bottom-middle-square\"].apply(lambda toLabel: 0 if toLabel == 'x'  else 1 if toLabel == 'o'  else 2)\n",
        "training[\"bottom-right-square\"] = training[\"bottom-right-square\"].apply(lambda toLabel: 0 if toLabel == 'x'  else 1 if toLabel == 'o'  else 2)\n",
        "training[\"Class\"] = training[\"Class\"].apply(lambda toLabel: 0 if toLabel == 'positive' else 1)\n",
        "training.head(5)"
      ],
      "metadata": {
        "id": "iCj6a7uH6Nt_"
      },
      "execution_count": null,
      "outputs": []
    },
    {
      "cell_type": "code",
      "source": [
        "#Como se va trabajar\n",
        "columns = [\"Class\",\"top-left-square\", \"top-middle-square\", \"top-right-square\", \"middle-left-square\", \"middle-middle-square\",\"middle-right-square\",\"bottom-left-square\",\"bottom-middle-square\",\"bottom-right-square\"]\n",
        "#create the variable to hold the features that the classifier will use\n",
        "#datosiniciales = training[list(columns)].values\n",
        "datosiniciales = training[list(columns)]\n",
        "datosiniciales.head(5)"
      ],
      "metadata": {
        "id": "N4gR6WXs6Qc2"
      },
      "execution_count": null,
      "outputs": []
    },
    {
      "cell_type": "code",
      "source": [
        "#Saber cuantos datos hay\n",
        "datosiniciales.shape"
      ],
      "metadata": {
        "id": "ni6TA75i6UCV"
      },
      "execution_count": null,
      "outputs": []
    },
    {
      "cell_type": "code",
      "source": [
        "#Datos de entrada\n",
        "columns = [\"top-left-square\", \"top-middle-square\", \"top-right-square\", \"middle-left-square\", \"middle-middle-square\",\"middle-right-square\",\"bottom-left-square\",\"bottom-middle-square\",\"bottom-right-square\"]\n",
        "X_input = datosiniciales[list(columns)].values\n",
        "\n",
        "#Target el objetivo o salida deseada\n",
        "y_target = datosiniciales[\"Class\"].values"
      ],
      "metadata": {
        "id": "Mnpnxuoz6Xv0"
      },
      "execution_count": 5,
      "outputs": []
    },
    {
      "cell_type": "code",
      "source": [
        "#Crear arbol de decission\n",
        "from sklearn import tree"
      ],
      "metadata": {
        "id": "BW01Ex4f6Y-u"
      },
      "execution_count": 6,
      "outputs": []
    },
    {
      "cell_type": "code",
      "source": [
        "#create clf_train as a decision tree classifier object\n",
        "clf_train = tree.DecisionTreeClassifier(criterion=\"entropy\", max_depth=5)\n",
        "\n",
        "#train the model using the fit() method of the decision tree object. \n",
        "#Supply the method with the input variable X_input and the target variable y_target\n",
        "clf_train = clf_train.fit(X_input, y_target)"
      ],
      "metadata": {
        "id": "OG1XyMBe6bHF"
      },
      "execution_count": 7,
      "outputs": []
    },
    {
      "cell_type": "code",
      "source": [
        "#Este score da las salidas requeridas\n",
        "clf_train.score(X_input,y_target)"
      ],
      "metadata": {
        "id": "7QTrVwAE6dSo"
      },
      "execution_count": null,
      "outputs": []
    },
    {
      "cell_type": "code",
      "source": [
        "#Archivo que te ayuda a generar el arbol\n",
        "import six\n",
        "#from sklearn.externals.six import StringIO\n",
        "with open(\"tic_tac_toe.dot\", 'w') as f:\n",
        "  f = tree.export_graphviz(clf_train, out_file=f, feature_names=columns)"
      ],
      "metadata": {
        "id": "edP26_b56kGF"
      },
      "execution_count": 9,
      "outputs": []
    },
    {
      "cell_type": "code",
      "source": [
        "!dot -Tpng ./tic_tac_toe.dot -o ./tic_tac_toe.png"
      ],
      "metadata": {
        "id": "Dz47DvZB6oEW"
      },
      "execution_count": 10,
      "outputs": []
    },
    {
      "cell_type": "code",
      "source": [
        "from IPython.display import Image\n",
        "#display the decison tree graphic\n",
        "Image(\"tic_tac_toe.png\")"
      ],
      "metadata": {
        "id": "fOsud5Et6q3v"
      },
      "execution_count": null,
      "outputs": []
    },
    {
      "cell_type": "code",
      "source": [
        "respuesta = clf_train.predict([[0,0,0,0,1,1,0,1,1]])\n",
        "print(respuesta)"
      ],
      "metadata": {
        "id": "bO96yHCc6ui1"
      },
      "execution_count": null,
      "outputs": []
    },
    {
      "cell_type": "markdown",
      "source": [
        "MATRIZ"
      ],
      "metadata": {
        "id": "rgONJdgY6xff"
      }
    },
    {
      "cell_type": "code",
      "source": [
        "import numpy as np\n",
        "from sklearn.metrics import confusion_matrix"
      ],
      "metadata": {
        "id": "rN0a3TeW6zAO"
      },
      "execution_count": 13,
      "outputs": []
    },
    {
      "cell_type": "code",
      "source": [
        "#Leer datos csv\n",
        "import pandas as pd\n",
        "training = pd.read_csv(\"tic_tac_toe_final.csv\")\n",
        "training.info()\n",
        "training.head(5)"
      ],
      "metadata": {
        "id": "SO3zpMBd62jv"
      },
      "execution_count": null,
      "outputs": []
    },
    {
      "cell_type": "code",
      "source": [
        "#Cambiar datos a numericos\n",
        "training[\"top-left-square\"] = training[\"top-left-square\"].apply(lambda toLabel: 0 if toLabel == 'x'  else 1 if toLabel == 'o'  else 2)\n",
        "training[\"top-middle-square\"] = training[\"top-middle-square\"].apply(lambda toLabel: 0 if toLabel == 'x'  else 1 if toLabel == 'o'  else 2)\n",
        "training[\"top-right-square\"] = training[\"top-right-square\"].apply(lambda toLabel: 0 if toLabel == 'x'  else 1 if toLabel == 'o'  else 2)\n",
        "training[\"middle-left-square\"] = training[\"middle-left-square\"].apply(lambda toLabel: 0 if toLabel == 'x'  else 1 if toLabel == 'o'  else 2)\n",
        "training[\"middle-middle-square\"] = training[\"middle-middle-square\"].apply(lambda toLabel: 0 if toLabel == 'x'  else 1 if toLabel == 'o'  else 2)\n",
        "training[\"middle-right-square\"] = training[\"middle-right-square\"].apply(lambda toLabel: 0 if toLabel == 'x'  else 1 if toLabel == 'o'  else 2)\n",
        "training[\"bottom-left-square\"] = training[\"bottom-left-square\"].apply(lambda toLabel: 0 if toLabel == 'x'  else 1 if toLabel == 'o'  else 2)\n",
        "training[\"bottom-middle-square\"] = training[\"bottom-middle-square\"].apply(lambda toLabel: 0 if toLabel == 'x'  else 1 if toLabel == 'o'  else 2)\n",
        "training[\"bottom-right-square\"] = training[\"bottom-right-square\"].apply(lambda toLabel: 0 if toLabel == 'x'  else 1 if toLabel == 'o'  else 2)\n",
        "training[\"Class\"] = training[\"Class\"].apply(lambda toLabel: 0 if toLabel == 'positive' else 1)\n",
        "training.head(5)"
      ],
      "metadata": {
        "id": "-pSzAzpj7AR2"
      },
      "execution_count": null,
      "outputs": []
    },
    {
      "cell_type": "code",
      "source": [
        "#Como se va trabajar\n",
        "columns = [\"Class\",\"top-left-square\", \"top-middle-square\", \"top-right-square\", \"middle-left-square\", \"middle-middle-square\",\"middle-right-square\",\"bottom-left-square\",\"bottom-middle-square\",\"bottom-right-square\"]\n",
        "#create the variable to hold the features that the classifier will use\n",
        "#datosiniciales = training[list(columns)].values\n",
        "datosiniciales = training[list(columns)]\n",
        "datosiniciales.head(5)"
      ],
      "metadata": {
        "id": "rBR_kBGs7JfL"
      },
      "execution_count": null,
      "outputs": []
    },
    {
      "cell_type": "code",
      "source": [
        "#Saber cuantos datos hay\n",
        "datosiniciales.shape"
      ],
      "metadata": {
        "colab": {
          "base_uri": "https://localhost:8080/"
        },
        "id": "tcclh3B67MVf",
        "outputId": "0066a4db-c47a-4ad8-cb08-714bb9be29a4"
      },
      "execution_count": 17,
      "outputs": [
        {
          "output_type": "execute_result",
          "data": {
            "text/plain": [
              "(958, 10)"
            ]
          },
          "metadata": {},
          "execution_count": 17
        }
      ]
    },
    {
      "cell_type": "code",
      "source": [
        "#Datos de entrada\n",
        "columns = [\"top-left-square\", \"top-middle-square\", \"top-right-square\", \"middle-left-square\", \"middle-middle-square\",\"middle-right-square\",\"bottom-left-square\",\"bottom-middle-square\",\"bottom-right-square\"]\n",
        "X_input2 = datosiniciales[list(columns)].values"
      ],
      "metadata": {
        "id": "rSmPfaKm7abG"
      },
      "execution_count": 18,
      "outputs": []
    },
    {
      "cell_type": "code",
      "source": [
        "#Target el objetivo o salida deseada\n",
        "y_target2 = datosiniciales[\"Class\"].values"
      ],
      "metadata": {
        "id": "5_HcyyyU7dia"
      },
      "execution_count": 19,
      "outputs": []
    },
    {
      "cell_type": "code",
      "source": [
        "y_verd=np.array(y_target)\n",
        "y_pred=np.array(y_target2)\n",
        "\n",
        "confm=confusion_matrix(y_verd,y_pred)\n",
        "print(confm)"
      ],
      "metadata": {
        "colab": {
          "base_uri": "https://localhost:8080/"
        },
        "id": "VlaDHZ3u7f6V",
        "outputId": "ec780ee7-8b85-4688-c365-68504978160a"
      },
      "execution_count": 20,
      "outputs": [
        {
          "output_type": "stream",
          "name": "stdout",
          "text": [
            "[[325 301]\n",
            " [160 172]]\n"
          ]
        }
      ]
    }
  ]
}